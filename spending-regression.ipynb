{
 "cells": [
  {
   "cell_type": "code",
   "execution_count": 1,
   "metadata": {
    "ExecuteTime": {
     "end_time": "2024-04-08T10:07:02.702776Z",
     "start_time": "2024-04-08T10:07:02.696189Z"
    }
   },
   "outputs": [],
   "source": [
    "import matplotlib.pyplot as plt\n",
    "import pandas as pd\n",
    "import seaborn as sns\n",
    "import torch\n",
    "from sklearn.model_selection import train_test_split\n",
    "from sklearn.preprocessing import StandardScaler\n",
    "from torch import nn\n",
    "from torch.utils.data import DataLoader"
   ]
  },
  {
   "cell_type": "code",
   "execution_count": 2,
   "metadata": {
    "ExecuteTime": {
     "end_time": "2024-04-08T10:07:02.723199Z",
     "start_time": "2024-04-08T10:07:02.719593Z"
    },
    "collapsed": false,
    "jupyter": {
     "outputs_hidden": false
    }
   },
   "outputs": [
    {
     "name": "stdout",
     "output_type": "stream",
     "text": [
      "Using mps\n"
     ]
    }
   ],
   "source": [
    "plt.rcParams['figure.figsize'] = (8, 6)\n",
    "device = (\n",
    "    \"cuda\"\n",
    "    if torch.cuda.is_available()\n",
    "    else \"mps\"\n",
    "    if torch.backends.mps.is_available()\n",
    "    else \"cpu\"\n",
    ")\n",
    "print(f\"Using {device}\")"
   ]
  },
  {
   "cell_type": "code",
   "execution_count": 3,
   "metadata": {
    "ExecuteTime": {
     "end_time": "2024-04-08T10:07:02.752358Z",
     "start_time": "2024-04-08T10:07:02.736083Z"
    },
    "collapsed": false,
    "jupyter": {
     "outputs_hidden": false
    }
   },
   "outputs": [
    {
     "data": {
      "text/html": [
       "<div>\n",
       "<style scoped>\n",
       "    .dataframe tbody tr th:only-of-type {\n",
       "        vertical-align: middle;\n",
       "    }\n",
       "\n",
       "    .dataframe tbody tr th {\n",
       "        vertical-align: top;\n",
       "    }\n",
       "\n",
       "    .dataframe thead th {\n",
       "        text-align: right;\n",
       "    }\n",
       "</style>\n",
       "<table border=\"1\" class=\"dataframe\">\n",
       "  <thead>\n",
       "    <tr style=\"text-align: right;\">\n",
       "      <th></th>\n",
       "      <th>Email</th>\n",
       "      <th>Address</th>\n",
       "      <th>Avatar</th>\n",
       "      <th>Avg. Session Length</th>\n",
       "      <th>Time on App</th>\n",
       "      <th>Time on Website</th>\n",
       "      <th>Length of Membership</th>\n",
       "      <th>Yearly Amount Spent</th>\n",
       "    </tr>\n",
       "  </thead>\n",
       "  <tbody>\n",
       "    <tr>\n",
       "      <th>77</th>\n",
       "      <td>paulkemp@yahoo.com</td>\n",
       "      <td>PSC 9698, Box 5466\\nAPO AE 75496-3580</td>\n",
       "      <td>LightSalmon</td>\n",
       "      <td>33.142079</td>\n",
       "      <td>11.433380</td>\n",
       "      <td>35.892432</td>\n",
       "      <td>4.470283</td>\n",
       "      <td>544.779864</td>\n",
       "    </tr>\n",
       "    <tr>\n",
       "      <th>495</th>\n",
       "      <td>lewisjessica@craig-evans.com</td>\n",
       "      <td>4483 Jones Motorway Suite 872\\nLake Jamiefurt,...</td>\n",
       "      <td>Tan</td>\n",
       "      <td>33.237660</td>\n",
       "      <td>13.566160</td>\n",
       "      <td>36.417985</td>\n",
       "      <td>3.746573</td>\n",
       "      <td>573.847438</td>\n",
       "    </tr>\n",
       "    <tr>\n",
       "      <th>99</th>\n",
       "      <td>jacqueline46@mcdonald-smith.biz</td>\n",
       "      <td>3794 Michael Forest Apt. 750\\nNew Stephenberg,...</td>\n",
       "      <td>Gray</td>\n",
       "      <td>33.826352</td>\n",
       "      <td>12.084092</td>\n",
       "      <td>35.890358</td>\n",
       "      <td>3.021672</td>\n",
       "      <td>495.299443</td>\n",
       "    </tr>\n",
       "    <tr>\n",
       "      <th>318</th>\n",
       "      <td>charlesgutierrez@hotmail.com</td>\n",
       "      <td>363 Kathleen Underpass\\nAshleyside, PR 98964</td>\n",
       "      <td>MistyRose</td>\n",
       "      <td>33.531860</td>\n",
       "      <td>13.665770</td>\n",
       "      <td>36.900221</td>\n",
       "      <td>3.515688</td>\n",
       "      <td>564.790969</td>\n",
       "    </tr>\n",
       "    <tr>\n",
       "      <th>460</th>\n",
       "      <td>gstrong@hotmail.com</td>\n",
       "      <td>7875 Landry Road Apt. 947\\nBrownshire, NC 1007...</td>\n",
       "      <td>Pink</td>\n",
       "      <td>34.034164</td>\n",
       "      <td>13.592513</td>\n",
       "      <td>36.838657</td>\n",
       "      <td>3.605934</td>\n",
       "      <td>618.845970</td>\n",
       "    </tr>\n",
       "    <tr>\n",
       "      <th>390</th>\n",
       "      <td>michaelcampbell@yahoo.com</td>\n",
       "      <td>96480 White Lane Suite 521\\nPattersonhaven, OR...</td>\n",
       "      <td>Gray</td>\n",
       "      <td>35.860237</td>\n",
       "      <td>11.730661</td>\n",
       "      <td>36.882149</td>\n",
       "      <td>3.416210</td>\n",
       "      <td>546.556667</td>\n",
       "    </tr>\n",
       "    <tr>\n",
       "      <th>497</th>\n",
       "      <td>dale88@hotmail.com</td>\n",
       "      <td>0787 Andrews Ranch Apt. 633\\nSouth Chadburgh, ...</td>\n",
       "      <td>Cornsilk</td>\n",
       "      <td>32.646777</td>\n",
       "      <td>11.499409</td>\n",
       "      <td>38.332576</td>\n",
       "      <td>4.958264</td>\n",
       "      <td>551.620145</td>\n",
       "    </tr>\n",
       "    <tr>\n",
       "      <th>322</th>\n",
       "      <td>suzanne63@gmail.com</td>\n",
       "      <td>229 Eric Mountains\\nNew Caleb, PA 00396</td>\n",
       "      <td>LightSalmon</td>\n",
       "      <td>33.264632</td>\n",
       "      <td>10.732131</td>\n",
       "      <td>36.145792</td>\n",
       "      <td>4.086566</td>\n",
       "      <td>478.262126</td>\n",
       "    </tr>\n",
       "    <tr>\n",
       "      <th>59</th>\n",
       "      <td>john85@martin-morgan.com</td>\n",
       "      <td>USNV Reese\\nFPO AA 73568-0730</td>\n",
       "      <td>Olive</td>\n",
       "      <td>33.754995</td>\n",
       "      <td>12.064157</td>\n",
       "      <td>37.271222</td>\n",
       "      <td>3.970556</td>\n",
       "      <td>547.365141</td>\n",
       "    </tr>\n",
       "    <tr>\n",
       "      <th>451</th>\n",
       "      <td>rachelrodriguez@lara-waters.com</td>\n",
       "      <td>35466 Tommy Stream\\nPort Daniellemouth, KS 688...</td>\n",
       "      <td>LightSlateGray</td>\n",
       "      <td>33.943119</td>\n",
       "      <td>11.484199</td>\n",
       "      <td>36.839366</td>\n",
       "      <td>2.402454</td>\n",
       "      <td>436.720556</td>\n",
       "    </tr>\n",
       "  </tbody>\n",
       "</table>\n",
       "</div>"
      ],
      "text/plain": [
       "                               Email  \\\n",
       "77                paulkemp@yahoo.com   \n",
       "495     lewisjessica@craig-evans.com   \n",
       "99   jacqueline46@mcdonald-smith.biz   \n",
       "318     charlesgutierrez@hotmail.com   \n",
       "460              gstrong@hotmail.com   \n",
       "390        michaelcampbell@yahoo.com   \n",
       "497               dale88@hotmail.com   \n",
       "322              suzanne63@gmail.com   \n",
       "59          john85@martin-morgan.com   \n",
       "451  rachelrodriguez@lara-waters.com   \n",
       "\n",
       "                                               Address          Avatar  \\\n",
       "77               PSC 9698, Box 5466\\nAPO AE 75496-3580     LightSalmon   \n",
       "495  4483 Jones Motorway Suite 872\\nLake Jamiefurt,...             Tan   \n",
       "99   3794 Michael Forest Apt. 750\\nNew Stephenberg,...            Gray   \n",
       "318       363 Kathleen Underpass\\nAshleyside, PR 98964       MistyRose   \n",
       "460  7875 Landry Road Apt. 947\\nBrownshire, NC 1007...            Pink   \n",
       "390  96480 White Lane Suite 521\\nPattersonhaven, OR...            Gray   \n",
       "497  0787 Andrews Ranch Apt. 633\\nSouth Chadburgh, ...        Cornsilk   \n",
       "322            229 Eric Mountains\\nNew Caleb, PA 00396     LightSalmon   \n",
       "59                       USNV Reese\\nFPO AA 73568-0730           Olive   \n",
       "451  35466 Tommy Stream\\nPort Daniellemouth, KS 688...  LightSlateGray   \n",
       "\n",
       "     Avg. Session Length  Time on App  Time on Website  Length of Membership  \\\n",
       "77             33.142079    11.433380        35.892432              4.470283   \n",
       "495            33.237660    13.566160        36.417985              3.746573   \n",
       "99             33.826352    12.084092        35.890358              3.021672   \n",
       "318            33.531860    13.665770        36.900221              3.515688   \n",
       "460            34.034164    13.592513        36.838657              3.605934   \n",
       "390            35.860237    11.730661        36.882149              3.416210   \n",
       "497            32.646777    11.499409        38.332576              4.958264   \n",
       "322            33.264632    10.732131        36.145792              4.086566   \n",
       "59             33.754995    12.064157        37.271222              3.970556   \n",
       "451            33.943119    11.484199        36.839366              2.402454   \n",
       "\n",
       "     Yearly Amount Spent  \n",
       "77            544.779864  \n",
       "495           573.847438  \n",
       "99            495.299443  \n",
       "318           564.790969  \n",
       "460           618.845970  \n",
       "390           546.556667  \n",
       "497           551.620145  \n",
       "322           478.262126  \n",
       "59            547.365141  \n",
       "451           436.720556  "
      ]
     },
     "execution_count": 3,
     "metadata": {},
     "output_type": "execute_result"
    }
   ],
   "source": [
    "customers = pd.read_csv('./data/spending.csv')\n",
    "customers.sample(10)"
   ]
  },
  {
   "cell_type": "code",
   "execution_count": 4,
   "metadata": {
    "ExecuteTime": {
     "end_time": "2024-04-08T10:07:02.756765Z",
     "start_time": "2024-04-08T10:07:02.753704Z"
    },
    "collapsed": false,
    "jupyter": {
     "outputs_hidden": false
    }
   },
   "outputs": [],
   "source": [
    "customers = customers.drop(columns=['Email', 'Address', 'Avatar'])"
   ]
  },
  {
   "cell_type": "code",
   "execution_count": 5,
   "metadata": {
    "ExecuteTime": {
     "end_time": "2024-04-08T10:07:02.762949Z",
     "start_time": "2024-04-08T10:07:02.757541Z"
    },
    "collapsed": false,
    "jupyter": {
     "outputs_hidden": false
    }
   },
   "outputs": [],
   "source": [
    "X = customers.drop(columns='Yearly Amount Spent')\n",
    "y = customers['Yearly Amount Spent']\n",
    "\n",
    "X_train, X_test, y_train, y_test = train_test_split(X, y, test_size=0.3, random_state=42)"
   ]
  },
  {
   "cell_type": "markdown",
   "metadata": {
    "collapsed": false,
    "jupyter": {
     "outputs_hidden": false
    }
   },
   "source": [
    "### Feature scaling\n",
    "\n",
    "* Features haben unterschiedliche Wertebereiche\n",
    "  population: [0, 35000] vs median_income: [0, 15]\n",
    "![scaling](./assets/scaling.png)\n",
    "* Feature scaling bringt alle Features zusammen\n",
    "* *Normalization* x -> [0, 1] $$x' = \\frac{x-x_{min}}{x_{max} - x_{min}}$$\n",
    "* *Standardization* x -> Standardnormalverteilt  $$x' = \\frac{x-\\mu}{\\sigma}$$\n",
    "\n",
    "Wichtig bei\n",
    "* Algorithmen, die mit Distanzen arbeiten (SVM, ...)\n",
    "* ANNs"
   ]
  },
  {
   "cell_type": "code",
   "execution_count": 6,
   "metadata": {
    "ExecuteTime": {
     "end_time": "2024-04-08T10:07:02.770036Z",
     "start_time": "2024-04-08T10:07:02.764465Z"
    },
    "collapsed": false,
    "jupyter": {
     "outputs_hidden": false
    }
   },
   "outputs": [],
   "source": [
    "scaler = StandardScaler()\n",
    "X_train = scaler.fit_transform(X_train)\n",
    "X_test = scaler.transform(X_test)"
   ]
  },
  {
   "cell_type": "markdown",
   "metadata": {
    "collapsed": false,
    "jupyter": {
     "outputs_hidden": false
    }
   },
   "source": [
    "## Biologisches Neuron\n",
    "\n",
    "![Biological neuron](./assets/neuron.webp)\n",
    "\n",
    "* Inputs in Form von elektrischen Signalen\n",
    "* Input kommt über Dendriten\n",
    "* Falls Summe der Inputs Schwelle(*Aktivierungspotential*) überschreitet, wird Signal weitergeleitet\n",
    "\n",
    "## Künstliches Neuron(*Perceptron*)\n",
    "\n",
    "![Artificial neuron](./assets/artificial-neuron.jpg)\n",
    "\n",
    "* Inputs (x_i) sind die Features einer Observation\n",
    "* Die Inputs werden verschieden gewichtet ($w_i$)\n",
    "* Lernen => Gewichte adaptieren\n",
    "* $$ output = f(\\sum_i x_iw_i) = f(\\vec{x}\\vec{w}^T) $$\n",
    "\n",
    "## Network\n",
    "![ann-architecture](./assets/ann-architecture.png)"
   ]
  },
  {
   "cell_type": "code",
   "execution_count": 7,
   "metadata": {
    "ExecuteTime": {
     "end_time": "2024-04-08T10:07:02.775256Z",
     "start_time": "2024-04-08T10:07:02.771300Z"
    },
    "collapsed": false,
    "jupyter": {
     "outputs_hidden": false
    }
   },
   "outputs": [],
   "source": [
    "class SpendingDataset(torch.utils.data.Dataset):\n",
    "\n",
    "    def __init__(self, X, y):\n",
    "        self.X = torch.tensor(X, dtype=torch.float32).to(device)\n",
    "        self.y = torch.tensor(y.to_numpy(), dtype=torch.float32).to(device)\n",
    "\n",
    "    def __len__(self):\n",
    "        return len(self.y)\n",
    "\n",
    "    def __getitem__(self, index):\n",
    "        data = self.X[index]\n",
    "        spending = self.y[index].unsqueeze(0)  # extra Dimension\n",
    "        return data, spending"
   ]
  },
  {
   "cell_type": "code",
   "execution_count": 8,
   "metadata": {
    "ExecuteTime": {
     "end_time": "2024-04-08T10:07:02.812140Z",
     "start_time": "2024-04-08T10:07:02.776130Z"
    }
   },
   "outputs": [
    {
     "data": {
      "text/plain": [
       "(tensor([[ 0.8190, -0.0218, -2.4676,  1.8669],\n",
       "         [ 0.8743, -0.0376, -0.2881, -0.8006],\n",
       "         [ 1.5106,  0.1213,  2.0932,  0.0850]], device='mps:0'),\n",
       " tensor([[637.1025, 479.2311, 549.8606]], device='mps:0'))"
      ]
     },
     "execution_count": 8,
     "metadata": {},
     "output_type": "execute_result"
    }
   ],
   "source": [
    "SpendingDataset(X_train, y_train)[:3]"
   ]
  },
  {
   "cell_type": "code",
   "execution_count": 9,
   "metadata": {
    "ExecuteTime": {
     "end_time": "2024-04-08T10:07:02.816256Z",
     "start_time": "2024-04-08T10:07:02.813136Z"
    }
   },
   "outputs": [
    {
     "data": {
      "text/plain": [
       "(350, 4)"
      ]
     },
     "execution_count": 9,
     "metadata": {},
     "output_type": "execute_result"
    }
   ],
   "source": [
    "X_train.shape"
   ]
  },
  {
   "cell_type": "code",
   "execution_count": 26,
   "metadata": {
    "ExecuteTime": {
     "end_time": "2024-04-08T10:07:02.824850Z",
     "start_time": "2024-04-08T10:07:02.818706Z"
    },
    "collapsed": false,
    "jupyter": {
     "outputs_hidden": false
    }
   },
   "outputs": [
    {
     "name": "stdout",
     "output_type": "stream",
     "text": [
      "NeuralNetwork(\n",
      "  (linear_relu_stack): Sequential(\n",
      "    (0): Linear(in_features=4, out_features=4, bias=True)\n",
      "    (1): ReLU()\n",
      "    (2): Linear(in_features=4, out_features=4, bias=True)\n",
      "    (3): ReLU()\n",
      "    (4): Linear(in_features=4, out_features=1, bias=True)\n",
      "  )\n",
      ")\n"
     ]
    }
   ],
   "source": [
    "class NeuralNetwork(nn.Module):\n",
    "    def __init__(self, neurons):\n",
    "        super().__init__()\n",
    "        self.linear_relu_stack = nn.Sequential(\n",
    "            nn.Linear(X_train.shape[1], neurons),\n",
    "            nn.ReLU(),\n",
    "            nn.Linear(neurons, neurons),\n",
    "            nn.ReLU(),\n",
    "            nn.Linear(neurons, 1),\n",
    "        )\n",
    "\n",
    "    def forward(self, x):\n",
    "        spending = self.linear_relu_stack(x)\n",
    "        return spending\n",
    "\n",
    "\n",
    "model = NeuralNetwork(neurons=4).to(device)\n",
    "print(model)"
   ]
  },
  {
   "cell_type": "code",
   "execution_count": 25,
   "metadata": {
    "ExecuteTime": {
     "end_time": "2024-04-08T10:07:02.837745Z",
     "start_time": "2024-04-08T10:07:02.825611Z"
    }
   },
   "outputs": [
    {
     "name": "stdout",
     "output_type": "stream",
     "text": [
      "Predicted spending: tensor([[640.3362],\n",
      "        [470.2036],\n",
      "        [556.8273]], device='mps:0', grad_fn=<LinearBackward0>)\n"
     ]
    }
   ],
   "source": [
    "data = SpendingDataset(X_train, y_train)[:3][0]\n",
    "predictions = model(data)\n",
    "print(f\"Predicted spending: {predictions}\")"
   ]
  },
  {
   "cell_type": "code",
   "execution_count": 27,
   "metadata": {
    "ExecuteTime": {
     "end_time": "2024-04-08T10:07:02.853390Z",
     "start_time": "2024-04-08T10:07:02.848024Z"
    },
    "collapsed": false,
    "jupyter": {
     "outputs_hidden": false
    }
   },
   "outputs": [],
   "source": [
    "batch_size = 64\n",
    "training_data = SpendingDataset(X_train, y_train)\n",
    "test_data = SpendingDataset(X_test, y_test)\n",
    "train_dataloader = DataLoader(training_data, batch_size=batch_size, shuffle=True)\n",
    "test_dataloader = DataLoader(test_data, batch_size=batch_size, shuffle=True)"
   ]
  },
  {
   "cell_type": "markdown",
   "metadata": {},
   "source": [
    "[Training loop](http://experiments.mostafa.io/public/ffbpann/)"
   ]
  },
  {
   "cell_type": "code",
   "execution_count": 131,
   "metadata": {
    "ExecuteTime": {
     "end_time": "2024-04-08T10:07:02.961631Z",
     "start_time": "2024-04-08T10:07:02.931281Z"
    }
   },
   "outputs": [
    {
     "name": "stdout",
     "output_type": "stream",
     "text": [
      "192.16629028320312\n"
     ]
    }
   ],
   "source": [
    "loss_fn = nn.MSELoss()\n",
    "optimizer = torch.optim.Adam(model.parameters(), lr=0.01)\n",
    "\n",
    "X, y = training_data[:64]\n",
    "pred = model(X)\n",
    "loss = loss_fn(pred, y.transpose(0, 1))\n",
    "\n",
    "# Backpropagation\n",
    "loss.backward() # calculate gradients\n",
    "optimizer.step() # update weights\n",
    "optimizer.zero_grad() # gradients = 0\n",
    "print(loss.item())"
   ]
  },
  {
   "cell_type": "markdown",
   "metadata": {
    "collapsed": false,
    "jupyter": {
     "outputs_hidden": false
    }
   },
   "source": [
    "## Gradient Descent\n",
    "\n",
    "![gd](./assets/gradient-descent.png)\n",
    "![](./assets/opt1.gif)\n",
    "* Minimum der Loss function finden"
   ]
  },
  {
   "cell_type": "code",
   "execution_count": 14,
   "metadata": {
    "ExecuteTime": {
     "end_time": "2024-04-08T10:07:02.986857Z",
     "start_time": "2024-04-08T10:07:02.982409Z"
    },
    "collapsed": false,
    "jupyter": {
     "outputs_hidden": false
    }
   },
   "outputs": [],
   "source": [
    "def train_loop(dataloader, model, loss_fn, optimizer):\n",
    "    num_batches = len(dataloader)\n",
    "    # Set the model to training mode - important for batch normalization and dropout layers\n",
    "    # Unnecessary in this situation but added for best practices\n",
    "    model.train()\n",
    "    running_loss = 0\n",
    "    for batch, (X, y) in enumerate(dataloader):\n",
    "        # Compute prediction and loss\n",
    "        pred = model(X)\n",
    "        loss = loss_fn(pred, y)\n",
    "        running_loss += loss.item()\n",
    "\n",
    "        # Backpropagation\n",
    "        loss.backward() # calculate gradients\n",
    "        optimizer.step() # update weights\n",
    "        optimizer.zero_grad() # gradients = 0\n",
    "\n",
    "    return running_loss / num_batches\n",
    "\n",
    "\n",
    "def test_loop(dataloader, model, loss_fn):\n",
    "    # Set the model to evaluation mode - important for batch normalization and dropout layers\n",
    "    # Unnecessary in this situation but added for best practices\n",
    "    model.eval()\n",
    "    num_batches = len(dataloader)\n",
    "    test_loss = 0\n",
    "\n",
    "    # Evaluating the model with torch.no_grad() ensures that no gradients are computed during test mode\n",
    "    with torch.no_grad():\n",
    "        for X, y in dataloader:\n",
    "            pred = model(X)\n",
    "            test_loss += loss_fn(pred, y).item()\n",
    "\n",
    "    test_loss /= num_batches\n",
    "    return test_loss"
   ]
  },
  {
   "cell_type": "code",
   "execution_count": 15,
   "metadata": {
    "ExecuteTime": {
     "end_time": "2024-04-08T10:07:03.003258Z",
     "start_time": "2024-04-08T10:07:03.001324Z"
    }
   },
   "outputs": [],
   "source": [
    "#for t in epochs: # epochs = 1x alles gesehen\n",
    "#    train_loop()\n",
    "#    test_loop()"
   ]
  },
  {
   "cell_type": "code",
   "execution_count": 133,
   "metadata": {
    "ExecuteTime": {
     "end_time": "2024-04-08T10:07:06.224989Z",
     "start_time": "2024-04-08T10:07:03.004514Z"
    },
    "collapsed": false,
    "jupyter": {
     "outputs_hidden": false
    }
   },
   "outputs": [
    {
     "name": "stdout",
     "output_type": "stream",
     "text": [
      "Epoch 0\n",
      "-------------------------------\n",
      "Training_loss: 257258.17447916666\n",
      "Test_loss: 241455.70833333334\n",
      "\n",
      "Epoch 10\n",
      "-------------------------------\n",
      "Training_loss: 244509.55989583334\n",
      "Test_loss: 232475.65625\n",
      "\n",
      "Epoch 20\n",
      "-------------------------------\n",
      "Training_loss: 142663.07291666666\n",
      "Test_loss: 129684.8046875\n",
      "\n",
      "Epoch 30\n",
      "-------------------------------\n",
      "Training_loss: 30689.0830078125\n",
      "Test_loss: 25944.078776041668\n",
      "\n",
      "Epoch 40\n",
      "-------------------------------\n",
      "Training_loss: 8570.481770833334\n",
      "Test_loss: 10116.360188802084\n",
      "\n",
      "Epoch 50\n",
      "-------------------------------\n",
      "Training_loss: 4709.649007161458\n",
      "Test_loss: 6412.041341145833\n",
      "\n"
     ]
    },
    {
     "data": {
      "text/plain": [
       "<Axes: >"
      ]
     },
     "execution_count": 133,
     "metadata": {},
     "output_type": "execute_result"
    },
    {
     "data": {
      "image/png": "[encoded data removed]",
      "text/plain": [
       "<Figure size 800x600 with 1 Axes>"
      ]
     },
     "metadata": {},
     "output_type": "display_data"
    }
   ],
   "source": [
    "model = NeuralNetwork(neurons=4).to(device)\n",
    "loss_fn = nn.MSELoss()\n",
    "optimizer = torch.optim.Adam(model.parameters(), lr=1e-2)\n",
    "history = {'training_loss': [], 'test_loss': [], 'predictions': []}\n",
    "\n",
    "for t in range(60):\n",
    "    training_loss = train_loop(train_dataloader, model, loss_fn, optimizer)\n",
    "    history['training_loss'].append(training_loss)\n",
    "    test_loss = test_loop(test_dataloader, model, loss_fn)\n",
    "    history['test_loss'].append(test_loss)\n",
    "    prediction = model(torch.from_numpy(X_train[0]).to(torch.float32).to(device)).item()\n",
    "    history['predictions'].append(prediction)\n",
    "    if t % 10 == 0:\n",
    "        print(f\"Epoch {t}\\n-------------------------------\")\n",
    "        print(f'Training_loss: {training_loss}')\n",
    "        print(f'Test_loss: {test_loss}')\n",
    "        print()\n",
    "\n",
    "sns.lineplot(data=history.pop('predictions'))"
   ]
  },
  {
   "cell_type": "code",
   "execution_count": 17,
   "metadata": {
    "ExecuteTime": {
     "end_time": "2024-04-08T10:07:06.395162Z",
     "start_time": "2024-04-08T10:07:06.226292Z"
    },
    "collapsed": false,
    "jupyter": {
     "outputs_hidden": false
    }
   },
   "outputs": [
    {
     "data": {
      "text/plain": [
       "<Axes: >"
      ]
     },
     "execution_count": 17,
     "metadata": {},
     "output_type": "execute_result"
    },
    {
     "data": {
      "image/png": "[encoded data removed]",
      "text/plain": [
       "<Figure size 800x600 with 1 Axes>"
      ]
     },
     "metadata": {},
     "output_type": "display_data"
    }
   ],
   "source": [
    "sns.lineplot(data=history)"
   ]
  },
  {
   "cell_type": "code",
   "execution_count": 18,
   "metadata": {
    "ExecuteTime": {
     "end_time": "2024-04-08T10:07:06.398852Z",
     "start_time": "2024-04-08T10:07:06.396237Z"
    }
   },
   "outputs": [],
   "source": [
    "last_epochs = {}\n",
    "for k, v in history.items():\n",
    "   last_epochs[k] = v[1:10]"
   ]
  },
  {
   "cell_type": "code",
   "execution_count": 19,
   "metadata": {
    "ExecuteTime": {
     "end_time": "2024-04-08T10:07:06.554270Z",
     "start_time": "2024-04-08T10:07:06.400527Z"
    }
   },
   "outputs": [
    {
     "data": {
      "text/plain": [
       "<Axes: >"
      ]
     },
     "execution_count": 19,
     "metadata": {},
     "output_type": "execute_result"
    },
    {
     "data": {
      "image/png": "[encoded data removed]",
      "text/plain": [
       "<Figure size 800x600 with 1 Axes>"
      ]
     },
     "metadata": {},
     "output_type": "display_data"
    }
   ],
   "source": [
    "sns.lineplot(data=last_epochs)"
   ]
  }
 ],
 "metadata": {
  "kernelspec": {
   "display_name": "Python 3 (ipykernel)",
   "language": "python",
   "name": "python3"
  },
  "language_info": {
   "codemirror_mode": {
    "name": "ipython",
    "version": 3
   },
   "file_extension": ".py",
   "mimetype": "text/x-python",
   "name": "python",
   "nbconvert_exporter": "python",
   "pygments_lexer": "ipython3",
   "version": "3.11.8"
  }
 },
 "nbformat": 4,
 "nbformat_minor": 4
}
