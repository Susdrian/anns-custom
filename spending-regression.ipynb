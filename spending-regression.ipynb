{
 "cells": [
  {
   "cell_type": "code",
   "metadata": {
    "ExecuteTime": {
     "end_time": "2024-11-22T07:14:33.941057Z",
     "start_time": "2024-11-22T07:14:32.701646Z"
    }
   },
   "source": [
    "import matplotlib.pyplot as plt\n",
    "import pandas as pd\n",
    "import seaborn as sns\n",
    "import torch\n",
    "from sklearn.model_selection import train_test_split\n",
    "from sklearn.preprocessing import StandardScaler\n",
    "from torch import nn\n",
    "from torch.utils.data import DataLoader"
   ],
   "outputs": [],
   "execution_count": 1
  },
  {
   "cell_type": "code",
   "metadata": {
    "collapsed": false,
    "jupyter": {
     "outputs_hidden": false
    },
    "ExecuteTime": {
     "end_time": "2024-11-22T07:14:33.965247Z",
     "start_time": "2024-11-22T07:14:33.961Z"
    }
   },
   "source": [
    "plt.rcParams['figure.figsize'] = (8, 6)\n",
    "device = (\n",
    "    \"cuda\"\n",
    "    if torch.cuda.is_available()\n",
    "    else \"mps\"\n",
    "    if torch.backends.mps.is_available()\n",
    "    else \"cpu\"\n",
    ")\n",
    "print(f\"Using {device}\")"
   ],
   "outputs": [
    {
     "name": "stdout",
     "output_type": "stream",
     "text": [
      "Using cpu\n"
     ]
    }
   ],
   "execution_count": 2
  },
  {
   "cell_type": "code",
   "metadata": {
    "collapsed": false,
    "jupyter": {
     "outputs_hidden": false
    },
    "ExecuteTime": {
     "end_time": "2024-11-22T07:14:34.106806Z",
     "start_time": "2024-11-22T07:14:34.090504Z"
    }
   },
   "source": [
    "customers = pd.read_csv('./data/spending.csv')\n",
    "customers.sample(10)"
   ],
   "outputs": [
    {
     "data": {
      "text/plain": [
       "                           Email  \\\n",
       "426       rwilliams@trujillo.biz   \n",
       "388      judithsmith@jimenez.biz   \n",
       "160     blevinseric@stephens.com   \n",
       "166  allison80@carson-hansen.com   \n",
       "115            whess@hotmail.com   \n",
       "116          josesims@hunter.com   \n",
       "74       haydenrebecca@gmail.com   \n",
       "134             jill33@allen.com   \n",
       "336        jeffery48@mcguire.com   \n",
       "491   leonardhancock@hotmail.com   \n",
       "\n",
       "                                               Address          Avatar  \\\n",
       "426  54560 Thompson Creek Apt. 029\\nNew Brianville,...  BlanchedAlmond   \n",
       "388       186 Anthony Route\\nGordonview, AS 78120-4633      DarkOrange   \n",
       "160              PSC 3676, Box 1549\\nAPO AE 26130-7683          Orange   \n",
       "166  04311 Oconnor Park Apt. 415\\nKelleystad, ND 63...     ForestGreen   \n",
       "115  29282 Alexander Street\\nSouth Andrewmouth, MS ...          Tomato   \n",
       "116     8830 Debra Loaf Apt. 341\\nDrakeville, ME 22340       SlateBlue   \n",
       "74   10022 Wilson Orchard Suite 107\\nHarrisstad, MH...       MintCream   \n",
       "134                459 Amy Burg\\nLake Travis, OR 53314        DarkCyan   \n",
       "336  52326 Townsend Centers\\nLake Williamburgh, NJ ...       LightCyan   \n",
       "491  64147 Alexander Station Apt. 474\\nEast Jasonvi...        SeaShell   \n",
       "\n",
       "     Avg. Session Length  Time on App  Time on Website  Length of Membership  \\\n",
       "426            31.425227    13.271475        37.239847              4.022103   \n",
       "388            33.590486    10.942070        36.170494              2.783963   \n",
       "160            32.838100    12.364342        38.039109              3.309182   \n",
       "166            33.630801    12.039648        38.924087              2.873008   \n",
       "115            33.235607    11.223369        37.692301              2.594190   \n",
       "116            33.925795    12.011022        36.701052              2.753424   \n",
       "74             33.879745    13.587806        38.260353              3.258113   \n",
       "134            33.540977    11.851891        37.424548              1.767731   \n",
       "336            32.302553    11.979061        38.269061              3.532862   \n",
       "491            34.343922    11.693058        36.812934              3.447093   \n",
       "\n",
       "     Yearly Amount Spent  \n",
       "426           530.766719  \n",
       "388           407.542168  \n",
       "160           468.913501  \n",
       "166           497.811930  \n",
       "115           413.371783  \n",
       "116           479.231093  \n",
       "74            578.241605  \n",
       "134           407.804031  \n",
       "336           478.600916  \n",
       "491           510.501478  "
      ],
      "text/html": [
       "<div>\n",
       "<style scoped>\n",
       "    .dataframe tbody tr th:only-of-type {\n",
       "        vertical-align: middle;\n",
       "    }\n",
       "\n",
       "    .dataframe tbody tr th {\n",
       "        vertical-align: top;\n",
       "    }\n",
       "\n",
       "    .dataframe thead th {\n",
       "        text-align: right;\n",
       "    }\n",
       "</style>\n",
       "<table border=\"1\" class=\"dataframe\">\n",
       "  <thead>\n",
       "    <tr style=\"text-align: right;\">\n",
       "      <th></th>\n",
       "      <th>Email</th>\n",
       "      <th>Address</th>\n",
       "      <th>Avatar</th>\n",
       "      <th>Avg. Session Length</th>\n",
       "      <th>Time on App</th>\n",
       "      <th>Time on Website</th>\n",
       "      <th>Length of Membership</th>\n",
       "      <th>Yearly Amount Spent</th>\n",
       "    </tr>\n",
       "  </thead>\n",
       "  <tbody>\n",
       "    <tr>\n",
       "      <th>426</th>\n",
       "      <td>rwilliams@trujillo.biz</td>\n",
       "      <td>54560 Thompson Creek Apt. 029\\nNew Brianville,...</td>\n",
       "      <td>BlanchedAlmond</td>\n",
       "      <td>31.425227</td>\n",
       "      <td>13.271475</td>\n",
       "      <td>37.239847</td>\n",
       "      <td>4.022103</td>\n",
       "      <td>530.766719</td>\n",
       "    </tr>\n",
       "    <tr>\n",
       "      <th>388</th>\n",
       "      <td>judithsmith@jimenez.biz</td>\n",
       "      <td>186 Anthony Route\\nGordonview, AS 78120-4633</td>\n",
       "      <td>DarkOrange</td>\n",
       "      <td>33.590486</td>\n",
       "      <td>10.942070</td>\n",
       "      <td>36.170494</td>\n",
       "      <td>2.783963</td>\n",
       "      <td>407.542168</td>\n",
       "    </tr>\n",
       "    <tr>\n",
       "      <th>160</th>\n",
       "      <td>blevinseric@stephens.com</td>\n",
       "      <td>PSC 3676, Box 1549\\nAPO AE 26130-7683</td>\n",
       "      <td>Orange</td>\n",
       "      <td>32.838100</td>\n",
       "      <td>12.364342</td>\n",
       "      <td>38.039109</td>\n",
       "      <td>3.309182</td>\n",
       "      <td>468.913501</td>\n",
       "    </tr>\n",
       "    <tr>\n",
       "      <th>166</th>\n",
       "      <td>allison80@carson-hansen.com</td>\n",
       "      <td>04311 Oconnor Park Apt. 415\\nKelleystad, ND 63...</td>\n",
       "      <td>ForestGreen</td>\n",
       "      <td>33.630801</td>\n",
       "      <td>12.039648</td>\n",
       "      <td>38.924087</td>\n",
       "      <td>2.873008</td>\n",
       "      <td>497.811930</td>\n",
       "    </tr>\n",
       "    <tr>\n",
       "      <th>115</th>\n",
       "      <td>whess@hotmail.com</td>\n",
       "      <td>29282 Alexander Street\\nSouth Andrewmouth, MS ...</td>\n",
       "      <td>Tomato</td>\n",
       "      <td>33.235607</td>\n",
       "      <td>11.223369</td>\n",
       "      <td>37.692301</td>\n",
       "      <td>2.594190</td>\n",
       "      <td>413.371783</td>\n",
       "    </tr>\n",
       "    <tr>\n",
       "      <th>116</th>\n",
       "      <td>josesims@hunter.com</td>\n",
       "      <td>8830 Debra Loaf Apt. 341\\nDrakeville, ME 22340</td>\n",
       "      <td>SlateBlue</td>\n",
       "      <td>33.925795</td>\n",
       "      <td>12.011022</td>\n",
       "      <td>36.701052</td>\n",
       "      <td>2.753424</td>\n",
       "      <td>479.231093</td>\n",
       "    </tr>\n",
       "    <tr>\n",
       "      <th>74</th>\n",
       "      <td>haydenrebecca@gmail.com</td>\n",
       "      <td>10022 Wilson Orchard Suite 107\\nHarrisstad, MH...</td>\n",
       "      <td>MintCream</td>\n",
       "      <td>33.879745</td>\n",
       "      <td>13.587806</td>\n",
       "      <td>38.260353</td>\n",
       "      <td>3.258113</td>\n",
       "      <td>578.241605</td>\n",
       "    </tr>\n",
       "    <tr>\n",
       "      <th>134</th>\n",
       "      <td>jill33@allen.com</td>\n",
       "      <td>459 Amy Burg\\nLake Travis, OR 53314</td>\n",
       "      <td>DarkCyan</td>\n",
       "      <td>33.540977</td>\n",
       "      <td>11.851891</td>\n",
       "      <td>37.424548</td>\n",
       "      <td>1.767731</td>\n",
       "      <td>407.804031</td>\n",
       "    </tr>\n",
       "    <tr>\n",
       "      <th>336</th>\n",
       "      <td>jeffery48@mcguire.com</td>\n",
       "      <td>52326 Townsend Centers\\nLake Williamburgh, NJ ...</td>\n",
       "      <td>LightCyan</td>\n",
       "      <td>32.302553</td>\n",
       "      <td>11.979061</td>\n",
       "      <td>38.269061</td>\n",
       "      <td>3.532862</td>\n",
       "      <td>478.600916</td>\n",
       "    </tr>\n",
       "    <tr>\n",
       "      <th>491</th>\n",
       "      <td>leonardhancock@hotmail.com</td>\n",
       "      <td>64147 Alexander Station Apt. 474\\nEast Jasonvi...</td>\n",
       "      <td>SeaShell</td>\n",
       "      <td>34.343922</td>\n",
       "      <td>11.693058</td>\n",
       "      <td>36.812934</td>\n",
       "      <td>3.447093</td>\n",
       "      <td>510.501478</td>\n",
       "    </tr>\n",
       "  </tbody>\n",
       "</table>\n",
       "</div>"
      ]
     },
     "execution_count": 3,
     "metadata": {},
     "output_type": "execute_result"
    }
   ],
   "execution_count": 3
  },
  {
   "cell_type": "code",
   "metadata": {
    "collapsed": false,
    "jupyter": {
     "outputs_hidden": false
    },
    "ExecuteTime": {
     "end_time": "2024-11-22T07:14:34.208704Z",
     "start_time": "2024-11-22T07:14:34.204951Z"
    }
   },
   "source": [
    "customers = customers.drop(columns=['Email', 'Address', 'Avatar'])"
   ],
   "outputs": [],
   "execution_count": 4
  },
  {
   "cell_type": "code",
   "metadata": {
    "collapsed": false,
    "jupyter": {
     "outputs_hidden": false
    },
    "ExecuteTime": {
     "end_time": "2024-11-22T07:14:34.264827Z",
     "start_time": "2024-11-22T07:14:34.257322Z"
    }
   },
   "source": [
    "X = customers.drop(columns='Yearly Amount Spent')\n",
    "y = customers['Yearly Amount Spent']\n",
    "\n",
    "X_train, X_test, y_train, y_test = train_test_split(X, y, test_size=0.3, random_state=42)"
   ],
   "outputs": [],
   "execution_count": 5
  },
  {
   "cell_type": "markdown",
   "metadata": {
    "collapsed": false,
    "jupyter": {
     "outputs_hidden": false
    }
   },
   "source": [
    "### Feature scaling\n",
    "\n",
    "* Features haben unterschiedliche Wertebereiche\n",
    "  population: [0, 35000] vs median_income: [0, 15]\n",
    "![scaling](./assets/scaling.png)\n",
    "* Feature scaling bringt alle Features zusammen\n",
    "* *Normalization* x -> [0, 1] $$x' = \\frac{x-x_{min}}{x_{max} - x_{min}}$$\n",
    "* *Standardization* x -> Standardnormalverteilt  $$x' = \\frac{x-\\mu}{\\sigma}$$\n",
    "\n",
    "Wichtig bei\n",
    "* Algorithmen, die mit Distanzen arbeiten (SVM, ...)\n",
    "* ANNs"
   ]
  },
  {
   "cell_type": "code",
   "metadata": {
    "collapsed": false,
    "jupyter": {
     "outputs_hidden": false
    },
    "ExecuteTime": {
     "end_time": "2024-11-22T07:14:34.384193Z",
     "start_time": "2024-11-22T07:14:34.375710Z"
    }
   },
   "source": [
    "scaler = StandardScaler()\n",
    "X_train = scaler.fit_transform(X_train)\n",
    "X_test = scaler.transform(X_test)"
   ],
   "outputs": [],
   "execution_count": 6
  },
  {
   "cell_type": "markdown",
   "metadata": {
    "collapsed": false,
    "jupyter": {
     "outputs_hidden": false
    }
   },
   "source": [
    "## Biologisches Neuron\n",
    "\n",
    "![Biological neuron](./assets/neuron.webp)\n",
    "\n",
    "* Inputs in Form von elektrischen Signalen\n",
    "* Input kommt über Dendriten\n",
    "* Falls Summe der Inputs Schwelle(*Aktivierungspotential*) überschreitet, wird Signal weitergeleitet\n",
    "\n",
    "## Künstliches Neuron(*Perceptron*)\n",
    "\n",
    "![Artificial neuron](./assets/artificial-neuron.jpg)\n",
    "\n",
    "* Inputs (x_i) sind die Features einer Observation\n",
    "* Die Inputs werden verschieden gewichtet ($w_i$)\n",
    "* Lernen => Gewichte adaptieren\n",
    "* $$ output = f(\\sum_i x_iw_i) = f(\\vec{x}\\vec{w}^T) $$\n",
    "\n",
    "## Network\n",
    "![ann-architecture](./assets/ann-architecture.png)"
   ]
  },
  {
   "cell_type": "code",
   "metadata": {
    "collapsed": false,
    "jupyter": {
     "outputs_hidden": false
    },
    "ExecuteTime": {
     "end_time": "2024-11-22T07:14:34.654118Z",
     "start_time": "2024-11-22T07:14:34.645867Z"
    }
   },
   "source": [
    "class SpendingDataset(torch.utils.data.Dataset):\n",
    "\n",
    "    def __init__(self, X, y):\n",
    "        self.X = torch.tensor(X, dtype=torch.float32).to(device)\n",
    "        self.y = torch.tensor(y.to_numpy(), dtype=torch.float32).to(device)\n",
    "\n",
    "    def __len__(self):\n",
    "        return len(self.y)\n",
    "\n",
    "    def __getitem__(self, index):\n",
    "        data = self.X[index]\n",
    "        spending = self.y[index].unsqueeze(0)  # extra Dimension\n",
    "        return data, spending"
   ],
   "outputs": [],
   "execution_count": 7
  },
  {
   "cell_type": "code",
   "metadata": {
    "ExecuteTime": {
     "end_time": "2024-11-22T07:14:34.712550Z",
     "start_time": "2024-11-22T07:14:34.706095Z"
    }
   },
   "source": [
    "SpendingDataset(X_train, y_train)[:3]"
   ],
   "outputs": [
    {
     "data": {
      "text/plain": [
       "(tensor([[ 0.8190, -0.0218, -2.4676,  1.8669],\n",
       "         [ 0.8743, -0.0376, -0.2881, -0.8006],\n",
       "         [ 1.5106,  0.1213,  2.0932,  0.0850]]),\n",
       " tensor([[637.1025, 479.2311, 549.8606]]))"
      ]
     },
     "execution_count": 8,
     "metadata": {},
     "output_type": "execute_result"
    }
   ],
   "execution_count": 8
  },
  {
   "cell_type": "code",
   "metadata": {
    "ExecuteTime": {
     "end_time": "2024-11-22T07:14:34.929070Z",
     "start_time": "2024-11-22T07:14:34.925471Z"
    }
   },
   "source": [
    "X_train.shape"
   ],
   "outputs": [
    {
     "data": {
      "text/plain": [
       "(350, 4)"
      ]
     },
     "execution_count": 9,
     "metadata": {},
     "output_type": "execute_result"
    }
   ],
   "execution_count": 9
  },
  {
   "cell_type": "code",
   "metadata": {
    "collapsed": false,
    "jupyter": {
     "outputs_hidden": false
    },
    "ExecuteTime": {
     "end_time": "2024-11-22T07:14:34.993966Z",
     "start_time": "2024-11-22T07:14:34.988069Z"
    }
   },
   "source": [
    "class NeuralNetwork(nn.Module):\n",
    "    def __init__(self, neurons):\n",
    "        super().__init__()\n",
    "        self.linear_relu_stack = nn.Sequential(\n",
    "            nn.Linear(X_train.shape[1], neurons),\n",
    "            nn.ReLU(),\n",
    "            nn.Linear(neurons, neurons),\n",
    "            nn.ReLU(),\n",
    "            nn.Linear(neurons, 1),\n",
    "        )\n",
    "\n",
    "    def forward(self, x):\n",
    "        spending = self.linear_relu_stack(x)\n",
    "        return spending\n",
    "\n",
    "\n",
    "model = NeuralNetwork(neurons=4).to(device)\n",
    "print(model)"
   ],
   "outputs": [
    {
     "name": "stdout",
     "output_type": "stream",
     "text": [
      "NeuralNetwork(\n",
      "  (linear_relu_stack): Sequential(\n",
      "    (0): Linear(in_features=4, out_features=4, bias=True)\n",
      "    (1): ReLU()\n",
      "    (2): Linear(in_features=4, out_features=4, bias=True)\n",
      "    (3): ReLU()\n",
      "    (4): Linear(in_features=4, out_features=1, bias=True)\n",
      "  )\n",
      ")\n"
     ]
    }
   ],
   "execution_count": 10
  },
  {
   "cell_type": "code",
   "metadata": {
    "ExecuteTime": {
     "end_time": "2024-11-22T07:14:35.058976Z",
     "start_time": "2024-11-22T07:14:35.051016Z"
    }
   },
   "source": [
    "data = SpendingDataset(X_train, y_train)[:3][0]\n",
    "predictions = model(data)\n",
    "print(f\"Predicted spending: {predictions}\")"
   ],
   "outputs": [
    {
     "name": "stdout",
     "output_type": "stream",
     "text": [
      "Predicted spending: tensor([[-0.1685],\n",
      "        [-0.1161],\n",
      "        [-0.1287]], grad_fn=<AddmmBackward0>)\n"
     ]
    }
   ],
   "execution_count": 11
  },
  {
   "cell_type": "code",
   "metadata": {
    "collapsed": false,
    "jupyter": {
     "outputs_hidden": false
    },
    "ExecuteTime": {
     "end_time": "2024-11-22T07:14:35.128645Z",
     "start_time": "2024-11-22T07:14:35.124480Z"
    }
   },
   "source": [
    "batch_size = 64\n",
    "training_data = SpendingDataset(X_train, y_train)\n",
    "test_data = SpendingDataset(X_test, y_test)\n",
    "train_dataloader = DataLoader(training_data, batch_size=batch_size, shuffle=True)\n",
    "test_dataloader = DataLoader(test_data, batch_size=batch_size, shuffle=True)"
   ],
   "outputs": [],
   "execution_count": 12
  },
  {
   "cell_type": "markdown",
   "metadata": {},
   "source": [
    "[Training loop](http://experiments.mostafa.io/public/ffbpann/)"
   ]
  },
  {
   "cell_type": "code",
   "metadata": {
    "ExecuteTime": {
     "end_time": "2024-11-22T07:14:36.260962Z",
     "start_time": "2024-11-22T07:14:35.203545Z"
    }
   },
   "source": [
    "loss_fn = nn.MSELoss()\n",
    "optimizer = torch.optim.Adam(model.parameters(), lr=0.01)\n",
    "\n",
    "X, y = training_data[:64]\n",
    "pred = model(X)\n",
    "loss = loss_fn(pred, y.transpose(0, 1))\n",
    "\n",
    "# Backpropagation\n",
    "loss.backward() # calculate gradients\n",
    "optimizer.step() # update weights\n",
    "optimizer.zero_grad() # gradients = 0\n",
    "print(loss.item())"
   ],
   "outputs": [
    {
     "name": "stdout",
     "output_type": "stream",
     "text": [
      "261366.6875\n"
     ]
    }
   ],
   "execution_count": 13
  },
  {
   "cell_type": "markdown",
   "metadata": {
    "collapsed": false,
    "jupyter": {
     "outputs_hidden": false
    }
   },
   "source": [
    "## Gradient Descent\n",
    "\n",
    "![gd](./assets/gradient-descent.png)\n",
    "![](./assets/opt1.gif)\n",
    "* Minimum der Loss function finden"
   ]
  },
  {
   "cell_type": "code",
   "metadata": {
    "collapsed": false,
    "jupyter": {
     "outputs_hidden": false
    },
    "ExecuteTime": {
     "end_time": "2024-11-22T07:14:36.276677Z",
     "start_time": "2024-11-22T07:14:36.270909Z"
    }
   },
   "source": [
    "def train_loop(dataloader, model, loss_fn, optimizer):\n",
    "    num_batches = len(dataloader)\n",
    "    # Set the model to training mode - important for batch normalization and dropout layers\n",
    "    # Unnecessary in this situation but added for best practices\n",
    "    model.train()\n",
    "    running_loss = 0\n",
    "    for batch, (X, y) in enumerate(dataloader):\n",
    "        # Compute prediction and loss\n",
    "        pred = model(X)\n",
    "        loss = loss_fn(pred, y)\n",
    "        running_loss += loss.item()\n",
    "\n",
    "        # Backpropagation\n",
    "        loss.backward() # calculate gradients\n",
    "        optimizer.step() # update weights\n",
    "        optimizer.zero_grad() # gradients = 0\n",
    "\n",
    "    return running_loss / num_batches\n",
    "\n",
    "\n",
    "def test_loop(dataloader, model, loss_fn):\n",
    "    # Set the model to evaluation mode - important for batch normalization and dropout layers\n",
    "    # Unnecessary in this situation but added for best practices\n",
    "    model.eval()\n",
    "    num_batches = len(dataloader)\n",
    "    test_loss = 0\n",
    "\n",
    "    # Evaluating the model with torch.no_grad() ensures that no gradients are computed during test mode\n",
    "    with torch.no_grad():\n",
    "        for X, y in dataloader:\n",
    "            pred = model(X)\n",
    "            test_loss += loss_fn(pred, y).item()\n",
    "\n",
    "    test_loss /= num_batches\n",
    "    return test_loss"
   ],
   "outputs": [],
   "execution_count": 14
  },
  {
   "cell_type": "code",
   "metadata": {
    "ExecuteTime": {
     "end_time": "2024-11-22T07:14:36.333687Z",
     "start_time": "2024-11-22T07:14:36.328969Z"
    }
   },
   "source": [
    "#for t in epochs: # epochs = 1x alles gesehen\n",
    "#    train_loop()\n",
    "#    test_loop()"
   ],
   "outputs": [],
   "execution_count": 15
  },
  {
   "cell_type": "code",
   "metadata": {
    "collapsed": false,
    "jupyter": {
     "outputs_hidden": false
    },
    "ExecuteTime": {
     "end_time": "2024-11-22T07:14:37.407172Z",
     "start_time": "2024-11-22T07:14:36.405146Z"
    }
   },
   "source": [
    "model = NeuralNetwork(neurons=4).to(device)\n",
    "loss_fn = nn.MSELoss()\n",
    "optimizer = torch.optim.Adam(model.parameters(), lr=1e-2)\n",
    "history = {'training_loss': [], 'test_loss': [], 'predictions': []}\n",
    "\n",
    "for t in range(60):\n",
    "    training_loss = train_loop(train_dataloader, model, loss_fn, optimizer)\n",
    "    history['training_loss'].append(training_loss)\n",
    "    test_loss = test_loop(test_dataloader, model, loss_fn)\n",
    "    history['test_loss'].append(test_loss)\n",
    "    prediction = model(torch.from_numpy(X_train[0]).to(torch.float32).to(device)).item()\n",
    "    history['predictions'].append(prediction)\n",
    "    if t % 10 == 0:\n",
    "        print(f\"Epoch {t}\\n-------------------------------\")\n",
    "        print(f'Training_loss: {training_loss}')\n",
    "        print(f'Test_loss: {test_loss}')\n",
    "        print()\n",
    "\n",
    "sns.lineplot(data=history.pop('predictions'))"
   ],
   "outputs": [
    {
     "name": "stdout",
     "output_type": "stream",
     "text": [
      "Epoch 0\n",
      "-------------------------------\n",
      "Training_loss: 258818.37760416666\n",
      "Test_loss: 244483.75520833334\n",
      "\n",
      "Epoch 10\n",
      "-------------------------------\n",
      "Training_loss: 245555.08854166666\n",
      "Test_loss: 230244.65625\n",
      "\n",
      "Epoch 20\n",
      "-------------------------------\n",
      "Training_loss: 152117.74869791666\n",
      "Test_loss: 133677.39583333334\n",
      "\n",
      "Epoch 30\n",
      "-------------------------------\n",
      "Training_loss: 22973.174153645832\n",
      "Test_loss: 18343.532552083332\n",
      "\n",
      "Epoch 40\n",
      "-------------------------------\n",
      "Training_loss: 7307.4345703125\n",
      "Test_loss: 6708.192057291667\n",
      "\n",
      "Epoch 50\n",
      "-------------------------------\n",
      "Training_loss: 5365.248046875\n",
      "Test_loss: 5343.872233072917\n",
      "\n"
     ]
    },
    {
     "data": {
      "text/plain": [
       "<Axes: >"
      ]
     },
     "execution_count": 16,
     "metadata": {},
     "output_type": "execute_result"
    },
    {
     "data": {
      "text/plain": [
       "<Figure size 800x600 with 1 Axes>"
      ],
      "image/png": "[encoded data removed]"
     },
     "metadata": {},
     "output_type": "display_data"
    }
   ],
   "execution_count": 16
  },
  {
   "cell_type": "code",
   "metadata": {
    "collapsed": false,
    "jupyter": {
     "outputs_hidden": false
    },
    "ExecuteTime": {
     "end_time": "2024-11-22T07:14:37.611027Z",
     "start_time": "2024-11-22T07:14:37.420902Z"
    }
   },
   "source": [
    "sns.lineplot(data=history)"
   ],
   "outputs": [
    {
     "data": {
      "text/plain": [
       "<Axes: >"
      ]
     },
     "execution_count": 17,
     "metadata": {},
     "output_type": "execute_result"
    },
    {
     "data": {
      "text/plain": [
       "<Figure size 800x600 with 1 Axes>"
      ],
      "image/png": "[encoded data removed]"
     },
     "metadata": {},
     "output_type": "display_data"
    }
   ],
   "execution_count": 17
  },
  {
   "cell_type": "code",
   "metadata": {
    "ExecuteTime": {
     "end_time": "2024-11-22T07:14:37.634035Z",
     "start_time": "2024-11-22T07:14:37.631351Z"
    }
   },
   "source": [
    "last_epochs = {}\n",
    "for k, v in history.items():\n",
    "   last_epochs[k] = v[1:10]"
   ],
   "outputs": [],
   "execution_count": 18
  },
  {
   "cell_type": "code",
   "metadata": {
    "ExecuteTime": {
     "end_time": "2024-11-22T07:14:37.875137Z",
     "start_time": "2024-11-22T07:14:37.680715Z"
    }
   },
   "source": [
    "sns.lineplot(data=last_epochs)"
   ],
   "outputs": [
    {
     "data": {
      "text/plain": [
       "<Axes: >"
      ]
     },
     "execution_count": 19,
     "metadata": {},
     "output_type": "execute_result"
    },
    {
     "data": {
      "text/plain": [
       "<Figure size 800x600 with 1 Axes>"
      ],
      "image/png": "[encoded data removed]"
     },
     "metadata": {},
     "output_type": "display_data"
    }
   ],
   "execution_count": 19
  }
 ],
 "metadata": {
  "kernelspec": {
   "display_name": "Python 3 (ipykernel)",
   "language": "python",
   "name": "python3"
  },
  "language_info": {
   "codemirror_mode": {
    "name": "ipython",
    "version": 3
   },
   "file_extension": ".py",
   "mimetype": "text/x-python",
   "name": "python",
   "nbconvert_exporter": "python",
   "pygments_lexer": "ipython3",
   "version": "3.11.8"
  }
 },
 "nbformat": 4,
 "nbformat_minor": 4
}
